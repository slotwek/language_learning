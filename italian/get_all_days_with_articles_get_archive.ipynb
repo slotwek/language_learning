{
 "cells": [
  {
   "cell_type": "markdown",
   "id": "423bc581",
   "metadata": {},
   "source": [
    "# Find all days with news"
   ]
  },
  {
   "cell_type": "code",
   "execution_count": 1,
   "id": "5b88f30b",
   "metadata": {},
   "outputs": [],
   "source": [
    "import requests\n",
    "from bs4 import BeautifulSoup\n",
    "import re\n",
    "\n",
    "l_to_remove = [#r'\\n+', \n",
    "    r'www\\..*\\n',\n",
    "    r'Click the link..*\\n', \n",
    "    r'https://..*\\n', \n",
    "    r'\\xa0\\n', \n",
    "    r'Creative Commons..*\\n',\n",
    "    r'Image.*\\n', \n",
    "    r'it\\.[\\w+]..*\\n', 'tg24\\..*\\n',\n",
    "    r'[\\s]Jeffrey Zeldman\\n',\n",
    "    r'[\\s]Zdravko Petrov\\n', \n",
    "    r'[\\s]Chris Watt\\n',\n",
    "    r'[\\s]GovernmentZA.*\\n',\n",
    "    r'[\\s]Attribution..*\\n',\n",
    "    r'[\\s]Elvert Barnes..*\\n',\n",
    "    r'[\\s]Maritza Ríos..*\\n', \n",
    "    r'[\\s]si.robi.*\\n',\n",
    "    r'[\\s]Steven Depolo.*\\n',\n",
    "    r'[\\s]Brendan Keene.*\\n',\n",
    "    r'[\\s]Francesco Ranieri.*\\n',\n",
    "    r'[\\s]Nathan Keirn.*\\n',\n",
    "    r'[\\s]Giorgio Minguzzi.*\\n',\n",
    "    \n",
    "    r' \\n',    \n",
    "]\n",
    "\n",
    "# Specify the URL of the website you want to scrape\n",
    "url = 'https://easyitaliannews.com/2024/06/'\n",
    "\n",
    "# To avoid server error: 403\n",
    "headers = {\n",
    "    \"User-Agent\": \"Mozilla/5.0 (X11; Ubuntu; Linux x86_64; rv:109.0) Gecko/20100101 Firefox/117.0\"\n",
    "}\n",
    "\n",
    "# Send a GET request to the URL\n",
    "response = requests.get(url, headers=headers)\n",
    "\n",
    "# Check if the request was successful (status code 200)\n",
    "if response.status_code == 200:\n",
    "    # Parse the HTML content using BeautifulSoup\n",
    "    soup = BeautifulSoup(response.text, 'html.parser')\n",
    "\n",
    "    l_tds = soup.find_all('td')\n",
    "\n",
    "    l_of_news = []\n",
    "    for td in soup.find_all('td'):\n",
    "        try:\n",
    "            l_of_news.append(td.find('a').get('href'))\n",
    "        except:\n",
    "            pass"
   ]
  },
  {
   "cell_type": "code",
   "execution_count": 2,
   "id": "157eb959",
   "metadata": {},
   "outputs": [],
   "source": [
    "from datetime import datetime"
   ]
  },
  {
   "cell_type": "code",
   "execution_count": 3,
   "id": "2162f633",
   "metadata": {},
   "outputs": [],
   "source": [
    "def diff_month(d1, d2):\n",
    "    return (d1.year - d2.year) * 12 + d1.month - d2.month\n",
    "\n",
    "assert diff_month(datetime(2010,10,1), datetime(2010,9,1)) == 1\n",
    "assert diff_month(datetime(2010,10,1), datetime(2009,10,1)) == 12\n",
    "assert diff_month(datetime(2010,10,1), datetime(2009,11,1)) == 11\n",
    "assert diff_month(datetime(2010,10,1), datetime(2009,8,1)) == 14"
   ]
  },
  {
   "cell_type": "code",
   "execution_count": 5,
   "id": "e0676e60",
   "metadata": {},
   "outputs": [
    {
     "data": {
      "text/plain": [
       "-23"
      ]
     },
     "execution_count": 5,
     "metadata": {},
     "output_type": "execute_result"
    }
   ],
   "source": [
    "diff_month(datetime(2010,10,1), datetime(2012,9,1))"
   ]
  },
  {
   "cell_type": "code",
   "execution_count": 6,
   "id": "214f3393",
   "metadata": {},
   "outputs": [],
   "source": [
    "import pandas as pd"
   ]
  },
  {
   "cell_type": "code",
   "execution_count": 7,
   "id": "8d8e4060",
   "metadata": {},
   "outputs": [
    {
     "name": "stdout",
     "output_type": "stream",
     "text": [
      "['2024-06', '2024-07', '2024-08', '2024-09', '2024-10', '2024-11', '2024-12', '2025-01', '2025-02', '2025-03', '2025-04', '2025-05']\n"
     ]
    }
   ],
   "source": [
    "now = pd.Timestamp.now().to_period('m')\n",
    "L = pd.period_range(now-1, freq='M', periods=12).strftime('%Y-%m').tolist()\n",
    "print (L)"
   ]
  },
  {
   "cell_type": "code",
   "execution_count": 8,
   "id": "62ff4513",
   "metadata": {},
   "outputs": [
    {
     "data": {
      "text/plain": [
       "Period('2024-07', 'M')"
      ]
     },
     "execution_count": 8,
     "metadata": {},
     "output_type": "execute_result"
    }
   ],
   "source": [
    "now"
   ]
  },
  {
   "cell_type": "code",
   "execution_count": 14,
   "id": "95fa077e",
   "metadata": {},
   "outputs": [
    {
     "data": {
      "text/plain": [
       "'2018-01'"
      ]
     },
     "execution_count": 14,
     "metadata": {},
     "output_type": "execute_result"
    }
   ],
   "source": [
    "pd.to_datetime('2018-01-01').strftime('%Y-%m')"
   ]
  },
  {
   "cell_type": "code",
   "execution_count": 15,
   "id": "3523231f",
   "metadata": {},
   "outputs": [
    {
     "data": {
      "text/plain": [
       "['2018-01',\n",
       " '2018-02',\n",
       " '2018-03',\n",
       " '2018-04',\n",
       " '2018-05',\n",
       " '2018-06',\n",
       " '2018-07',\n",
       " '2018-08',\n",
       " '2018-09',\n",
       " '2018-10',\n",
       " '2018-11',\n",
       " '2018-12']"
      ]
     },
     "execution_count": 15,
     "metadata": {},
     "output_type": "execute_result"
    }
   ],
   "source": [
    "pd.period_range(pd.to_datetime('2018-01-01').strftime('%Y-%m'), freq='M', periods=12).strftime('%Y-%m').tolist()"
   ]
  },
  {
   "cell_type": "code",
   "execution_count": 11,
   "id": "d2e2bb11",
   "metadata": {},
   "outputs": [
    {
     "ename": "TypeError",
     "evalue": "descriptor 'date' for 'datetime.datetime' objects doesn't apply to a 'int' object",
     "output_type": "error",
     "traceback": [
      "\u001b[1;31m---------------------------------------------------------------------------\u001b[0m",
      "\u001b[1;31mTypeError\u001b[0m                                 Traceback (most recent call last)",
      "Cell \u001b[1;32mIn[11], line 1\u001b[0m\n\u001b[1;32m----> 1\u001b[0m pd\u001b[38;5;241m.\u001b[39mTimestamp\u001b[38;5;241m.\u001b[39mdate(\u001b[38;5;241m2018\u001b[39m, \u001b[38;5;124m'\u001b[39m\u001b[38;5;124mM\u001b[39m\u001b[38;5;124m'\u001b[39m)\n",
      "\u001b[1;31mTypeError\u001b[0m: descriptor 'date' for 'datetime.datetime' objects doesn't apply to a 'int' object"
     ]
    }
   ],
   "source": [
    "pd.Timestamp.date(2018, 'M')"
   ]
  },
  {
   "cell_type": "code",
   "execution_count": 2,
   "id": "43147137",
   "metadata": {},
   "outputs": [
    {
     "data": {
      "text/plain": [
       "['https://easyitaliannews.com/2024/06/01/',\n",
       " 'https://easyitaliannews.com/2024/06/04/',\n",
       " 'https://easyitaliannews.com/2024/06/06/',\n",
       " 'https://easyitaliannews.com/2024/06/08/',\n",
       " 'https://easyitaliannews.com/2024/06/11/',\n",
       " 'https://easyitaliannews.com/2024/06/13/',\n",
       " 'https://easyitaliannews.com/2024/06/15/',\n",
       " 'https://easyitaliannews.com/2024/06/18/',\n",
       " 'https://easyitaliannews.com/2024/06/20/',\n",
       " 'https://easyitaliannews.com/2024/06/22/',\n",
       " 'https://easyitaliannews.com/2024/06/25/',\n",
       " 'https://easyitaliannews.com/2024/06/27/',\n",
       " 'https://easyitaliannews.com/2024/06/29/']"
      ]
     },
     "execution_count": 2,
     "metadata": {},
     "output_type": "execute_result"
    }
   ],
   "source": [
    "l_of_news"
   ]
  },
  {
   "cell_type": "code",
   "execution_count": 4,
   "id": "449743b9",
   "metadata": {},
   "outputs": [
    {
     "name": "stdout",
     "output_type": "stream",
     "text": [
      "2024-06-01\n",
      "done\n",
      "2024-06-04\n",
      "done\n",
      "2024-06-06\n",
      "done\n",
      "2024-06-08\n",
      "done\n",
      "2024-06-11\n",
      "done\n",
      "2024-06-13\n",
      "done\n",
      "2024-06-15\n",
      "done\n",
      "2024-06-18\n",
      "done\n",
      "2024-06-20\n",
      "done\n",
      "2024-06-22\n",
      "done\n",
      "2024-06-25\n",
      "done\n",
      "2024-06-27\n",
      "done\n",
      "2024-06-29\n",
      "done\n"
     ]
    }
   ],
   "source": [
    "for url in l_of_news:\n",
    "    news_date = url[28:38].replace('/', '-')\n",
    "    print(news_date)\n",
    "\n",
    "    # Send a GET request to the URL\n",
    "    response = requests.get(url, headers=headers)\n",
    "\n",
    "    # Check if the request was successful (status code 200)\n",
    "    if response.status_code == 200:\n",
    "        # Parse the HTML content using BeautifulSoup\n",
    "        soup = BeautifulSoup(response.text, 'html.parser')\n",
    "\n",
    "        ns = soup.find('div', {'class': 'entry-content'})\n",
    "\n",
    "        # Extracting all paragraphs\n",
    "        l_content = []\n",
    "        mp3 = ''\n",
    "        paragraphs = ns.find_all(True)\n",
    "        for idx, paragraph in enumerate(paragraphs):\n",
    "            # print(f\"Paragraph {idx+1}: {paragraph.text}\")\n",
    "            p = str(paragraph.text)\n",
    "        #     if  p not in l_content:\n",
    "        #         l_content.append(p)\n",
    "            if mp3 == '' and 'mp3' in p:\n",
    "                mp3 = p.strip()\n",
    "            l_content.append(p)\n",
    "\n",
    "        s = ('\\n').join(l_content).split('Il tuo aiuto per noi è importante!')[0].split('Subscribe')[0]\n",
    "\n",
    "\n",
    "        t = ''\n",
    "        for el in l_to_remove:\n",
    "            t = re.sub(el, '\\n', s)\n",
    "            s = t\n",
    "\n",
    "        t = re.sub(r'\\n\\n+', '\\n\\n', s)\n",
    "        s = t\n",
    "        s\n",
    "\n",
    "        s = s.strip()\n",
    "\n",
    "        # f = open('output.txt', 'w')\n",
    "        # f.write(s)\n",
    "        # f.close()\n",
    "\n",
    "        # with open('text.txt', 'w', encoding='utf-8') as f:\n",
    "        #     f.write(s)\n",
    "\n",
    "        with open(f'EasyItalianNews_{news_date}.txt', 'w', encoding='utf-8') as f:\n",
    "            f.write(s)\n",
    "\n",
    "        doc = requests.get(mp3)\n",
    "\n",
    "        with open(f'EasyItalianNews_{news_date}.mp3', 'wb') as f:\n",
    "            f.write(doc.content)\n",
    "print('done')"
   ]
  },
  {
   "cell_type": "code",
   "execution_count": null,
   "id": "b1304e44",
   "metadata": {},
   "outputs": [],
   "source": []
  }
 ],
 "metadata": {
  "kernelspec": {
   "display_name": "Python 3 (ipykernel)",
   "language": "python",
   "name": "python3"
  },
  "language_info": {
   "codemirror_mode": {
    "name": "ipython",
    "version": 3
   },
   "file_extension": ".py",
   "mimetype": "text/x-python",
   "name": "python",
   "nbconvert_exporter": "python",
   "pygments_lexer": "ipython3",
   "version": "3.11.3"
  },
  "toc": {
   "base_numbering": 1,
   "nav_menu": {},
   "number_sections": true,
   "sideBar": true,
   "skip_h1_title": false,
   "title_cell": "Table of Contents",
   "title_sidebar": "Contents",
   "toc_cell": false,
   "toc_position": {},
   "toc_section_display": true,
   "toc_window_display": false
  }
 },
 "nbformat": 4,
 "nbformat_minor": 5
}
