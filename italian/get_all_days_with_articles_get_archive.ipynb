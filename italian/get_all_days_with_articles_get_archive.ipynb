{
 "cells": [
  {
   "cell_type": "markdown",
   "id": "423bc581",
   "metadata": {},
   "source": [
    "# Find all days with news"
   ]
  },
  {
   "cell_type": "code",
   "execution_count": 5,
   "id": "568d8207",
   "metadata": {},
   "outputs": [],
   "source": [
    "import requests\n",
    "from bs4 import BeautifulSoup\n",
    "import re\n",
    "\n",
    "l_to_remove = [#r'\\n+', \n",
    "    r'www\\..*\\n',\n",
    "    r'Click the link..*\\n', \n",
    "    r'https://..*\\n', \n",
    "    r'\\xa0\\n', \n",
    "    r'Creative Commons..*\\n',\n",
    "    r'Image.*\\n', \n",
    "    r'it\\.[\\w+]..*\\n', 'tg24\\..*\\n',\n",
    "    r'[\\s]Jeffrey Zeldman\\n',\n",
    "    r'[\\s]Zdravko Petrov\\n', \n",
    "    r'[\\s]Chris Watt\\n',\n",
    "    r'[\\s]GovernmentZA.*\\n',\n",
    "    r'[\\s]Attribution..*\\n',\n",
    "    r'[\\s]Elvert Barnes..*\\n',\n",
    "    r'[\\s]Maritza Ríos..*\\n', \n",
    "    r'[\\s]si.robi.*\\n',\n",
    "    r'[\\s]Steven Depolo.*\\n',\n",
    "    r'[\\s]Brendan Keene.*\\n',\n",
    "    r'[\\s]Francesco Ranieri.*\\n',\n",
    "    r'[\\s]Nathan Keirn.*\\n',\n",
    "    r'[\\s]Giorgio Minguzzi.*\\n',\n",
    "    \n",
    "    r' \\n',    \n",
    "]"
   ]
  },
  {
   "cell_type": "code",
   "execution_count": 6,
   "id": "9a199c02",
   "metadata": {},
   "outputs": [],
   "source": [
    "import pandas as pd\n",
    "start_date = pd.to_datetime('2018-09-01').strftime('%Y-%m')\n",
    "l_year_months = pd.period_range(start_date, freq='M', periods=70).strftime('%Y/%m').tolist()"
   ]
  },
  {
   "cell_type": "code",
   "execution_count": 8,
   "id": "a6a7dad7",
   "metadata": {},
   "outputs": [],
   "source": [
    "paragraphs = ns.find_all(True)"
   ]
  },
  {
   "cell_type": "code",
   "execution_count": 9,
   "id": "eb364993",
   "metadata": {},
   "outputs": [
    {
     "data": {
      "text/plain": [
       "[<p><iframe frameborder=\"no\" height=\"400\" scrolling=\"no\" src=\"https://w.soundcloud.com/player/?visual=true&amp;url=https%3A%2F%2Fapi.soundcloud.com%2Ftracks%2F498787041&amp;show_artwork=true&amp;maxheight=750&amp;maxwidth=500\" title=\"Sveziaelezioni by Easy Readers LLP\" width=\"500\"></iframe></p>,\n",
       " <iframe frameborder=\"no\" height=\"400\" scrolling=\"no\" src=\"https://w.soundcloud.com/player/?visual=true&amp;url=https%3A%2F%2Fapi.soundcloud.com%2Ftracks%2F498787041&amp;show_artwork=true&amp;maxheight=750&amp;maxwidth=500\" title=\"Sveziaelezioni by Easy Readers LLP\" width=\"500\"></iframe>,\n",
       " <p>EasyItalianNews.com, mercoledì 12 settembre 2018<br/>\n",
       " ITALIA<br/>\n",
       " <strong>Elezioni in Svezia: la destra avanza</strong></p>,\n",
       " <br/>,\n",
       " <br/>,\n",
       " <strong>Elezioni in Svezia: la destra avanza</strong>,\n",
       " <p>Il 9 settembre ha visto<br/>\n",
       " la Svezia andare alle urne<br/>\n",
       " per eleggere il nuovo governo.</p>,\n",
       " <br/>,\n",
       " <br/>,\n",
       " <p>Le previsioni indicano<br/>\n",
       " una forte crescita<br/>\n",
       " per il partito di destra,<br/>\n",
       " anti immigrazione e anti UE<br/>\n",
       " guidato da Jimmie Åkesson,<br/>\n",
       " che si avvicina ora<br/>\n",
       " al 20% dei consensi.</p>,\n",
       " <br/>,\n",
       " <br/>,\n",
       " <br/>,\n",
       " <br/>,\n",
       " <br/>,\n",
       " <br/>,\n",
       " <p>Il centrosinistra,<br/>\n",
       " composto da socialdemocratici e verdi,<br/>\n",
       " nonostante il calo,<br/>\n",
       " arriva circa al 40%.</p>,\n",
       " <br/>,\n",
       " <br/>,\n",
       " <br/>,\n",
       " <p>“Finalmente anche la Svezia,<br/>\n",
       " patria del multiculturalismo<br/>\n",
       " e modello per la sinistra,<br/>\n",
       " dice no a questa Europa di burocrati,<br/>\n",
       " no all’immigrazione illegale<br/>\n",
       " e no all’estremismo islamico”<br/>\n",
       " commenta su Twitter Matteo Salvini,<br/>\n",
       " ministro dell’interno italiano<br/>\n",
       " e leader della Lega.</p>,\n",
       " <br/>,\n",
       " <br/>,\n",
       " <br/>,\n",
       " <br/>,\n",
       " <br/>,\n",
       " <br/>,\n",
       " <br/>,\n",
       " <br/>,\n",
       " <p>Fonte: <a href=\"https://www.corriere.it/esteri/18_settembre_09/svezia-voto-incognita-sovranisti-intimidazioni-naziste-6610ebd4-b452-11e8-8b0b-dff47915528b.shtml\" rel=\"noopener\" target=\"_blank\">https://www.corriere.it/</a> &amp; The Times: “Right-wing radicals make big gains in Swedish election” </p>,\n",
       " <a href=\"https://www.corriere.it/esteri/18_settembre_09/svezia-voto-incognita-sovranisti-intimidazioni-naziste-6610ebd4-b452-11e8-8b0b-dff47915528b.shtml\" rel=\"noopener\" target=\"_blank\">https://www.corriere.it/</a>,\n",
       " <p><em>Many thanks to Stefania Zamagni, who wrote this article, and Thomas Stephens (aged 15) who recorded it.</em></p>,\n",
       " <em>Many thanks to Stefania Zamagni, who wrote this article, and Thomas Stephens (aged 15) who recorded it.</em>]"
      ]
     },
     "execution_count": 9,
     "metadata": {},
     "output_type": "execute_result"
    }
   ],
   "source": [
    "paragraphs"
   ]
  },
  {
   "cell_type": "code",
   "execution_count": 16,
   "id": "85feb0e1",
   "metadata": {},
   "outputs": [
    {
     "data": {
      "text/plain": [
       "[<a href=\"https://easyitaliannews.com/\">EasyItalianNews.com</a>,\n",
       " <a href=\"http://easyitaliannews.com/\" itemprop=\"url\"><span itemprop=\"name\">Home</span></a>,\n",
       " <a href=\"https://easyitaliannews.com/how-to-use-easyitaliannews-com/\" itemprop=\"url\"><span itemprop=\"name\">Advice</span></a>,\n",
       " <a href=\"https://easyitaliannews.com/faq/\" itemprop=\"url\"><span itemprop=\"name\">FAQ</span></a>,\n",
       " <a href=\"https://easyitaliannews.com/subscribe/\" itemprop=\"url\"><span itemprop=\"name\">Subscribe</span></a>,\n",
       " <a href=\"https://easyitaliannews.com/support-easyitaliannews-com/\" itemprop=\"url\"><span itemprop=\"name\">Donate</span></a>,\n",
       " <a href=\"https://easyitaliannews.com/many-many-thanks-to/\" itemprop=\"url\"><span itemprop=\"name\">Thanks</span></a>,\n",
       " <a href=\"https://easyitaliannews.com/about/\" itemprop=\"url\"><span itemprop=\"name\">About</span></a>,\n",
       " <a class=\"entry-title-link\" href=\"https://easyitaliannews.com/elezioni-in-svezia-la-destra-avanza/\" rel=\"bookmark\">Elezioni in Svezia: la destra avanza</a>,\n",
       " <a class=\"entry-author-link\" href=\"https://easyitaliannews.com/author/wpx_easyital/\" itemprop=\"url\" rel=\"author\"><span class=\"entry-author-name\" itemprop=\"name\">wpx_easyital</span></a>,\n",
       " <a href=\"https://www.corriere.it/esteri/18_settembre_09/svezia-voto-incognita-sovranisti-intimidazioni-naziste-6610ebd4-b452-11e8-8b0b-dff47915528b.shtml\" rel=\"noopener\" target=\"_blank\">https://www.corriere.it/</a>,\n",
       " <a href=\"https://easyitaliannews.com/category/italia/\" rel=\"category tag\">Italia</a>,\n",
       " <a href=\"https://easyitaliannews.com/tag/italia/\" rel=\"tag\">Italia</a>,\n",
       " <a href=\"https://easyitaliannews.com/easyitaliannews-com-18-luglio-2024/comment-page-1/#comment-11953\">EasyItalianNews.com 18 luglio 2024</a>,\n",
       " <a href=\"https://easyitaliannews.com/easyitaliannews-com-23-luglio-2024/comment-page-1/#comment-11952\">EasyItalianNews.com 23 luglio 2024</a>,\n",
       " <a href=\"https://easyitaliannews.com/easyitaliannews-com-23-luglio-2024/comment-page-1/#comment-11948\">EasyItalianNews.com 23 luglio 2024</a>,\n",
       " <a href=\"https://easyitaliannews.com/easyitaliannews-com-23-luglio-2024/comment-page-1/#comment-11947\">EasyItalianNews.com 23 luglio 2024</a>,\n",
       " <a href=\"https://easyitaliannews.com/easyitaliannews-com-18-luglio-2024/comment-page-1/#comment-11946\">EasyItalianNews.com 18 luglio 2024</a>,\n",
       " <a href=\"https://onlineitalianclub.com\" rel=\"noopener\" target=\"_blank\"><strong>OnlineItalianClub.com</strong></a>,\n",
       " <a href=\"https://easyreaders.org\" rel=\"noopener\" target=\"_blank\"><strong>EasyReaders.Org</strong></a>,\n",
       " <a href=\"https://nativespeakerteachers.com/\" rel=\"noopener\" target=\"_blank\"><strong>NativeSpeakerTeachers.com</strong></a>,\n",
       " <a href=\"https://easyreaders.org/product-tag/easyitaliannews-com/\" rel=\"noopener\" target=\"_blank\"><img alt=\"Best of EasyItalianNews.com 2022-2023 - cover image\" class=\"image wp-image-13651 attachment-medium size-medium\" decoding=\"async\" height=\"300\" loading=\"lazy\" sizes=\"(max-width: 300px) 100vw, 300px\" src=\"https://easyitaliannews.com/wp-content/uploads/2023/07/EIN2223600x600-300x300.jpg\" srcset=\"https://easyitaliannews.com/wp-content/uploads/2023/07/EIN2223600x600-300x300.jpg 300w, https://easyitaliannews.com/wp-content/uploads/2023/07/EIN2223600x600-150x150.jpg 150w, https://easyitaliannews.com/wp-content/uploads/2023/07/EIN2223600x600.jpg 600w\" style=\"max-width: 100%; height: auto;\" title=\"Buy Printable .Pdf Ebooks!\" width=\"300\"/></a>,\n",
       " <a aria-label=\"Posts published on September 12, 2018\" href=\"https://easyitaliannews.com/2018/09/12/\">12</a>,\n",
       " <a aria-label=\"Posts published on September 13, 2018\" href=\"https://easyitaliannews.com/2018/09/13/\">13</a>,\n",
       " <a aria-label=\"Posts published on September 14, 2018\" href=\"https://easyitaliannews.com/2018/09/14/\">14</a>,\n",
       " <a aria-label=\"Posts published on September 17, 2018\" href=\"https://easyitaliannews.com/2018/09/17/\">17</a>,\n",
       " <a aria-label=\"Posts published on September 18, 2018\" href=\"https://easyitaliannews.com/2018/09/18/\">18</a>,\n",
       " <a aria-label=\"Posts published on September 20, 2018\" href=\"https://easyitaliannews.com/2018/09/20/\">20</a>,\n",
       " <a aria-label=\"Posts published on September 22, 2018\" href=\"https://easyitaliannews.com/2018/09/22/\">22</a>,\n",
       " <a aria-label=\"Posts published on September 25, 2018\" href=\"https://easyitaliannews.com/2018/09/25/\">25</a>,\n",
       " <a aria-label=\"Posts published on September 27, 2018\" href=\"https://easyitaliannews.com/2018/09/27/\">27</a>,\n",
       " <a aria-label=\"Posts published on September 29, 2018\" href=\"https://easyitaliannews.com/2018/09/29/\">29</a>,\n",
       " <a href=\"https://easyitaliannews.com/2018/10/\">Oct »</a>]"
      ]
     },
     "execution_count": 16,
     "metadata": {},
     "output_type": "execute_result"
    }
   ],
   "source": [
    "soup.find_all('a')"
   ]
  },
  {
   "cell_type": "code",
   "execution_count": 11,
   "id": "73b2a6ae",
   "metadata": {},
   "outputs": [
    {
     "data": {
      "text/plain": [
       "[<a href=\"https://www.corriere.it/esteri/18_settembre_09/svezia-voto-incognita-sovranisti-intimidazioni-naziste-6610ebd4-b452-11e8-8b0b-dff47915528b.shtml\" rel=\"noopener\" target=\"_blank\">https://www.corriere.it/</a>]"
      ]
     },
     "execution_count": 11,
     "metadata": {},
     "output_type": "execute_result"
    }
   ],
   "source": [
    "ns.find_all('a')"
   ]
  },
  {
   "cell_type": "code",
   "execution_count": null,
   "id": "d021fc54",
   "metadata": {},
   "outputs": [],
   "source": [
    "for idx, paragraph in enumerate(paragraphs):\n",
    "    # print(f\"Paragraph {idx+1}: {paragraph.text}\")\n",
    "    p = str(paragraph.text)\n",
    "#     if  p not in l_content:\n",
    "#         l_content.append(p)\n",
    "    if mp3 == '' and 'mp3' in p:\n",
    "        mp3 = p.strip()\n",
    "    l_content.append(p)"
   ]
  },
  {
   "cell_type": "code",
   "execution_count": 7,
   "id": "22bb39f7",
   "metadata": {},
   "outputs": [
    {
     "name": "stdout",
     "output_type": "stream",
     "text": [
      "2018-09-12\n"
     ]
    },
    {
     "ename": "MissingSchema",
     "evalue": "Invalid URL '': No scheme supplied. Perhaps you meant https://?",
     "output_type": "error",
     "traceback": [
      "\u001b[1;31m---------------------------------------------------------------------------\u001b[0m",
      "\u001b[1;31mMissingSchema\u001b[0m                             Traceback (most recent call last)",
      "Cell \u001b[1;32mIn[7], line 80\u001b[0m\n\u001b[0;32m     77\u001b[0m \u001b[38;5;28;01mwith\u001b[39;00m \u001b[38;5;28mopen\u001b[39m(\u001b[38;5;124mf\u001b[39m\u001b[38;5;124m'\u001b[39m\u001b[38;5;124mEasyItalianNews_\u001b[39m\u001b[38;5;132;01m{\u001b[39;00mnews_date\u001b[38;5;132;01m}\u001b[39;00m\u001b[38;5;124m.txt\u001b[39m\u001b[38;5;124m'\u001b[39m, \u001b[38;5;124m'\u001b[39m\u001b[38;5;124mw\u001b[39m\u001b[38;5;124m'\u001b[39m, encoding\u001b[38;5;241m=\u001b[39m\u001b[38;5;124m'\u001b[39m\u001b[38;5;124mutf-8\u001b[39m\u001b[38;5;124m'\u001b[39m) \u001b[38;5;28;01mas\u001b[39;00m f:\n\u001b[0;32m     78\u001b[0m     f\u001b[38;5;241m.\u001b[39mwrite(s)\n\u001b[1;32m---> 80\u001b[0m doc \u001b[38;5;241m=\u001b[39m requests\u001b[38;5;241m.\u001b[39mget(mp3)\n\u001b[0;32m     82\u001b[0m \u001b[38;5;28;01mwith\u001b[39;00m \u001b[38;5;28mopen\u001b[39m(\u001b[38;5;124mf\u001b[39m\u001b[38;5;124m'\u001b[39m\u001b[38;5;124mEasyItalianNews_\u001b[39m\u001b[38;5;132;01m{\u001b[39;00mnews_date\u001b[38;5;132;01m}\u001b[39;00m\u001b[38;5;124m.mp3\u001b[39m\u001b[38;5;124m'\u001b[39m, \u001b[38;5;124m'\u001b[39m\u001b[38;5;124mwb\u001b[39m\u001b[38;5;124m'\u001b[39m) \u001b[38;5;28;01mas\u001b[39;00m f:\n\u001b[0;32m     83\u001b[0m     f\u001b[38;5;241m.\u001b[39mwrite(doc\u001b[38;5;241m.\u001b[39mcontent)\n",
      "File \u001b[1;32m~\\AppData\\Local\\anaconda3\\Lib\\site-packages\\requests\\api.py:73\u001b[0m, in \u001b[0;36mget\u001b[1;34m(url, params, **kwargs)\u001b[0m\n\u001b[0;32m     62\u001b[0m \u001b[38;5;28;01mdef\u001b[39;00m \u001b[38;5;21mget\u001b[39m(url, params\u001b[38;5;241m=\u001b[39m\u001b[38;5;28;01mNone\u001b[39;00m, \u001b[38;5;241m*\u001b[39m\u001b[38;5;241m*\u001b[39mkwargs):\n\u001b[0;32m     63\u001b[0m \u001b[38;5;250m    \u001b[39m\u001b[38;5;124mr\u001b[39m\u001b[38;5;124;03m\"\"\"Sends a GET request.\u001b[39;00m\n\u001b[0;32m     64\u001b[0m \n\u001b[0;32m     65\u001b[0m \u001b[38;5;124;03m    :param url: URL for the new :class:`Request` object.\u001b[39;00m\n\u001b[1;32m   (...)\u001b[0m\n\u001b[0;32m     70\u001b[0m \u001b[38;5;124;03m    :rtype: requests.Response\u001b[39;00m\n\u001b[0;32m     71\u001b[0m \u001b[38;5;124;03m    \"\"\"\u001b[39;00m\n\u001b[1;32m---> 73\u001b[0m     \u001b[38;5;28;01mreturn\u001b[39;00m request(\u001b[38;5;124m\"\u001b[39m\u001b[38;5;124mget\u001b[39m\u001b[38;5;124m\"\u001b[39m, url, params\u001b[38;5;241m=\u001b[39mparams, \u001b[38;5;241m*\u001b[39m\u001b[38;5;241m*\u001b[39mkwargs)\n",
      "File \u001b[1;32m~\\AppData\\Local\\anaconda3\\Lib\\site-packages\\requests\\api.py:59\u001b[0m, in \u001b[0;36mrequest\u001b[1;34m(method, url, **kwargs)\u001b[0m\n\u001b[0;32m     55\u001b[0m \u001b[38;5;66;03m# By using the 'with' statement we are sure the session is closed, thus we\u001b[39;00m\n\u001b[0;32m     56\u001b[0m \u001b[38;5;66;03m# avoid leaving sockets open which can trigger a ResourceWarning in some\u001b[39;00m\n\u001b[0;32m     57\u001b[0m \u001b[38;5;66;03m# cases, and look like a memory leak in others.\u001b[39;00m\n\u001b[0;32m     58\u001b[0m \u001b[38;5;28;01mwith\u001b[39;00m sessions\u001b[38;5;241m.\u001b[39mSession() \u001b[38;5;28;01mas\u001b[39;00m session:\n\u001b[1;32m---> 59\u001b[0m     \u001b[38;5;28;01mreturn\u001b[39;00m session\u001b[38;5;241m.\u001b[39mrequest(method\u001b[38;5;241m=\u001b[39mmethod, url\u001b[38;5;241m=\u001b[39murl, \u001b[38;5;241m*\u001b[39m\u001b[38;5;241m*\u001b[39mkwargs)\n",
      "File \u001b[1;32m~\\AppData\\Local\\anaconda3\\Lib\\site-packages\\requests\\sessions.py:575\u001b[0m, in \u001b[0;36mSession.request\u001b[1;34m(self, method, url, params, data, headers, cookies, files, auth, timeout, allow_redirects, proxies, hooks, stream, verify, cert, json)\u001b[0m\n\u001b[0;32m    562\u001b[0m \u001b[38;5;66;03m# Create the Request.\u001b[39;00m\n\u001b[0;32m    563\u001b[0m req \u001b[38;5;241m=\u001b[39m Request(\n\u001b[0;32m    564\u001b[0m     method\u001b[38;5;241m=\u001b[39mmethod\u001b[38;5;241m.\u001b[39mupper(),\n\u001b[0;32m    565\u001b[0m     url\u001b[38;5;241m=\u001b[39murl,\n\u001b[1;32m   (...)\u001b[0m\n\u001b[0;32m    573\u001b[0m     hooks\u001b[38;5;241m=\u001b[39mhooks,\n\u001b[0;32m    574\u001b[0m )\n\u001b[1;32m--> 575\u001b[0m prep \u001b[38;5;241m=\u001b[39m \u001b[38;5;28mself\u001b[39m\u001b[38;5;241m.\u001b[39mprepare_request(req)\n\u001b[0;32m    577\u001b[0m proxies \u001b[38;5;241m=\u001b[39m proxies \u001b[38;5;129;01mor\u001b[39;00m {}\n\u001b[0;32m    579\u001b[0m settings \u001b[38;5;241m=\u001b[39m \u001b[38;5;28mself\u001b[39m\u001b[38;5;241m.\u001b[39mmerge_environment_settings(\n\u001b[0;32m    580\u001b[0m     prep\u001b[38;5;241m.\u001b[39murl, proxies, stream, verify, cert\n\u001b[0;32m    581\u001b[0m )\n",
      "File \u001b[1;32m~\\AppData\\Local\\anaconda3\\Lib\\site-packages\\requests\\sessions.py:486\u001b[0m, in \u001b[0;36mSession.prepare_request\u001b[1;34m(self, request)\u001b[0m\n\u001b[0;32m    483\u001b[0m     auth \u001b[38;5;241m=\u001b[39m get_netrc_auth(request\u001b[38;5;241m.\u001b[39murl)\n\u001b[0;32m    485\u001b[0m p \u001b[38;5;241m=\u001b[39m PreparedRequest()\n\u001b[1;32m--> 486\u001b[0m p\u001b[38;5;241m.\u001b[39mprepare(\n\u001b[0;32m    487\u001b[0m     method\u001b[38;5;241m=\u001b[39mrequest\u001b[38;5;241m.\u001b[39mmethod\u001b[38;5;241m.\u001b[39mupper(),\n\u001b[0;32m    488\u001b[0m     url\u001b[38;5;241m=\u001b[39mrequest\u001b[38;5;241m.\u001b[39murl,\n\u001b[0;32m    489\u001b[0m     files\u001b[38;5;241m=\u001b[39mrequest\u001b[38;5;241m.\u001b[39mfiles,\n\u001b[0;32m    490\u001b[0m     data\u001b[38;5;241m=\u001b[39mrequest\u001b[38;5;241m.\u001b[39mdata,\n\u001b[0;32m    491\u001b[0m     json\u001b[38;5;241m=\u001b[39mrequest\u001b[38;5;241m.\u001b[39mjson,\n\u001b[0;32m    492\u001b[0m     headers\u001b[38;5;241m=\u001b[39mmerge_setting(\n\u001b[0;32m    493\u001b[0m         request\u001b[38;5;241m.\u001b[39mheaders, \u001b[38;5;28mself\u001b[39m\u001b[38;5;241m.\u001b[39mheaders, dict_class\u001b[38;5;241m=\u001b[39mCaseInsensitiveDict\n\u001b[0;32m    494\u001b[0m     ),\n\u001b[0;32m    495\u001b[0m     params\u001b[38;5;241m=\u001b[39mmerge_setting(request\u001b[38;5;241m.\u001b[39mparams, \u001b[38;5;28mself\u001b[39m\u001b[38;5;241m.\u001b[39mparams),\n\u001b[0;32m    496\u001b[0m     auth\u001b[38;5;241m=\u001b[39mmerge_setting(auth, \u001b[38;5;28mself\u001b[39m\u001b[38;5;241m.\u001b[39mauth),\n\u001b[0;32m    497\u001b[0m     cookies\u001b[38;5;241m=\u001b[39mmerged_cookies,\n\u001b[0;32m    498\u001b[0m     hooks\u001b[38;5;241m=\u001b[39mmerge_hooks(request\u001b[38;5;241m.\u001b[39mhooks, \u001b[38;5;28mself\u001b[39m\u001b[38;5;241m.\u001b[39mhooks),\n\u001b[0;32m    499\u001b[0m )\n\u001b[0;32m    500\u001b[0m \u001b[38;5;28;01mreturn\u001b[39;00m p\n",
      "File \u001b[1;32m~\\AppData\\Local\\anaconda3\\Lib\\site-packages\\requests\\models.py:368\u001b[0m, in \u001b[0;36mPreparedRequest.prepare\u001b[1;34m(self, method, url, headers, files, data, params, auth, cookies, hooks, json)\u001b[0m\n\u001b[0;32m    365\u001b[0m \u001b[38;5;250m\u001b[39m\u001b[38;5;124;03m\"\"\"Prepares the entire request with the given parameters.\"\"\"\u001b[39;00m\n\u001b[0;32m    367\u001b[0m \u001b[38;5;28mself\u001b[39m\u001b[38;5;241m.\u001b[39mprepare_method(method)\n\u001b[1;32m--> 368\u001b[0m \u001b[38;5;28mself\u001b[39m\u001b[38;5;241m.\u001b[39mprepare_url(url, params)\n\u001b[0;32m    369\u001b[0m \u001b[38;5;28mself\u001b[39m\u001b[38;5;241m.\u001b[39mprepare_headers(headers)\n\u001b[0;32m    370\u001b[0m \u001b[38;5;28mself\u001b[39m\u001b[38;5;241m.\u001b[39mprepare_cookies(cookies)\n",
      "File \u001b[1;32m~\\AppData\\Local\\anaconda3\\Lib\\site-packages\\requests\\models.py:439\u001b[0m, in \u001b[0;36mPreparedRequest.prepare_url\u001b[1;34m(self, url, params)\u001b[0m\n\u001b[0;32m    436\u001b[0m     \u001b[38;5;28;01mraise\u001b[39;00m InvalidURL(\u001b[38;5;241m*\u001b[39me\u001b[38;5;241m.\u001b[39margs)\n\u001b[0;32m    438\u001b[0m \u001b[38;5;28;01mif\u001b[39;00m \u001b[38;5;129;01mnot\u001b[39;00m scheme:\n\u001b[1;32m--> 439\u001b[0m     \u001b[38;5;28;01mraise\u001b[39;00m MissingSchema(\n\u001b[0;32m    440\u001b[0m         \u001b[38;5;124mf\u001b[39m\u001b[38;5;124m\"\u001b[39m\u001b[38;5;124mInvalid URL \u001b[39m\u001b[38;5;132;01m{\u001b[39;00murl\u001b[38;5;132;01m!r}\u001b[39;00m\u001b[38;5;124m: No scheme supplied. \u001b[39m\u001b[38;5;124m\"\u001b[39m\n\u001b[0;32m    441\u001b[0m         \u001b[38;5;124mf\u001b[39m\u001b[38;5;124m\"\u001b[39m\u001b[38;5;124mPerhaps you meant https://\u001b[39m\u001b[38;5;132;01m{\u001b[39;00murl\u001b[38;5;132;01m}\u001b[39;00m\u001b[38;5;124m?\u001b[39m\u001b[38;5;124m\"\u001b[39m\n\u001b[0;32m    442\u001b[0m     )\n\u001b[0;32m    444\u001b[0m \u001b[38;5;28;01mif\u001b[39;00m \u001b[38;5;129;01mnot\u001b[39;00m host:\n\u001b[0;32m    445\u001b[0m     \u001b[38;5;28;01mraise\u001b[39;00m InvalidURL(\u001b[38;5;124mf\u001b[39m\u001b[38;5;124m\"\u001b[39m\u001b[38;5;124mInvalid URL \u001b[39m\u001b[38;5;132;01m{\u001b[39;00murl\u001b[38;5;132;01m!r}\u001b[39;00m\u001b[38;5;124m: No host supplied\u001b[39m\u001b[38;5;124m\"\u001b[39m)\n",
      "\u001b[1;31mMissingSchema\u001b[0m: Invalid URL '': No scheme supplied. Perhaps you meant https://?"
     ]
    }
   ],
   "source": [
    "for year_month in l_year_months[:1]:\n",
    "    \n",
    "\n",
    "    # Specify the URL of the website you want to scrape\n",
    "    url = f'https://easyitaliannews.com/{year_month}/'\n",
    "\n",
    "    # To avoid server error: 403\n",
    "    headers = {\n",
    "        \"User-Agent\": \"Mozilla/5.0 (X11; Ubuntu; Linux x86_64; rv:109.0) Gecko/20100101 Firefox/117.0\"\n",
    "    }\n",
    "\n",
    "    # Send a GET request to the URL\n",
    "    response = requests.get(url, headers=headers)\n",
    "\n",
    "    # Check if the request was successful (status code 200)\n",
    "    if response.status_code == 200:\n",
    "        # Parse the HTML content using BeautifulSoup\n",
    "        soup = BeautifulSoup(response.text, 'html.parser')\n",
    "\n",
    "        l_tds = soup.find_all('td')\n",
    "\n",
    "        l_of_news = []\n",
    "        for td in soup.find_all('td'):\n",
    "            try:\n",
    "                l_of_news.append(td.find('a').get('href'))\n",
    "            except:\n",
    "                pass\n",
    "\n",
    "    for url in l_of_news:\n",
    "        news_date = url[28:38].replace('/', '-')\n",
    "        print(news_date)\n",
    "\n",
    "        # Send a GET request to the URL\n",
    "        response = requests.get(url, headers=headers)\n",
    "\n",
    "        # Check if the request was successful (status code 200)\n",
    "        if response.status_code == 200:\n",
    "            # Parse the HTML content using BeautifulSoup\n",
    "            soup = BeautifulSoup(response.text, 'html.parser')\n",
    "\n",
    "            ns = soup.find('div', {'class': 'entry-content'})\n",
    "\n",
    "            # Extracting all paragraphs\n",
    "            l_content = []\n",
    "            mp3 = ''\n",
    "            paragraphs = ns.find_all(True)\n",
    "            for idx, paragraph in enumerate(paragraphs):\n",
    "                # print(f\"Paragraph {idx+1}: {paragraph.text}\")\n",
    "                p = str(paragraph.text)\n",
    "            #     if  p not in l_content:\n",
    "            #         l_content.append(p)\n",
    "                if mp3 == '' and 'mp3' in p:\n",
    "                    mp3 = p.strip()\n",
    "                l_content.append(p)\n",
    "\n",
    "            s = ('\\n').join(l_content).split('Il tuo aiuto per noi è importante!')[0].split('Subscribe')[0]\n",
    "\n",
    "\n",
    "            t = ''\n",
    "            for el in l_to_remove:\n",
    "                t = re.sub(el, '\\n', s)\n",
    "                s = t\n",
    "\n",
    "            t = re.sub(r'\\n\\n+', '\\n\\n', s)\n",
    "            s = t\n",
    "            s\n",
    "\n",
    "            s = s.strip()\n",
    "\n",
    "            # f = open('output.txt', 'w')\n",
    "            # f.write(s)\n",
    "            # f.close()\n",
    "\n",
    "            # with open('text.txt', 'w', encoding='utf-8') as f:\n",
    "            #     f.write(s)\n",
    "\n",
    "            with open(f'EasyItalianNews_{news_date}.txt', 'w', encoding='utf-8') as f:\n",
    "                f.write(s)\n",
    "\n",
    "            doc = requests.get(mp3)\n",
    "\n",
    "            with open(f'EasyItalianNews_{news_date}.mp3', 'wb') as f:\n",
    "                f.write(doc.content)\n",
    "print('done')"
   ]
  },
  {
   "cell_type": "code",
   "execution_count": null,
   "id": "b1304e44",
   "metadata": {},
   "outputs": [],
   "source": []
  }
 ],
 "metadata": {
  "kernelspec": {
   "display_name": "Python 3 (ipykernel)",
   "language": "python",
   "name": "python3"
  },
  "language_info": {
   "codemirror_mode": {
    "name": "ipython",
    "version": 3
   },
   "file_extension": ".py",
   "mimetype": "text/x-python",
   "name": "python",
   "nbconvert_exporter": "python",
   "pygments_lexer": "ipython3",
   "version": "3.11.3"
  },
  "toc": {
   "base_numbering": 1,
   "nav_menu": {},
   "number_sections": true,
   "sideBar": true,
   "skip_h1_title": false,
   "title_cell": "Table of Contents",
   "title_sidebar": "Contents",
   "toc_cell": false,
   "toc_position": {},
   "toc_section_display": true,
   "toc_window_display": false
  }
 },
 "nbformat": 4,
 "nbformat_minor": 5
}
