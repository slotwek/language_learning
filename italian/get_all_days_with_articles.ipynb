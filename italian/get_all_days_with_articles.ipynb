{
 "cells": [
  {
   "cell_type": "code",
   "execution_count": null,
   "id": "c823c484",
   "metadata": {},
   "outputs": [],
   "source": []
  },
  {
   "cell_type": "code",
   "execution_count": null,
   "id": "a8a7f876",
   "metadata": {},
   "outputs": [],
   "source": [
    "# To avoid server error: 403\n",
    "headers = {\n",
    "    \"User-Agent\": \"Mozilla/5.0 (X11; Ubuntu; Linux x86_64; rv:109.0) Gecko/20100101 Firefox/117.0\"\n",
    "}"
   ]
  },
  {
   "cell_type": "markdown",
   "id": "423bc581",
   "metadata": {},
   "source": [
    "# Find all days with news"
   ]
  },
  {
   "cell_type": "code",
   "execution_count": 152,
   "id": "859cfba7",
   "metadata": {},
   "outputs": [],
   "source": [
    "import requests\n",
    "from bs4 import BeautifulSoup\n",
    "import re\n",
    "\n",
    "l_to_remove = [#r'\\n+', \n",
    "    r'www\\..*\\n',\n",
    "    r'Click the link..*\\n', \n",
    "    r'https://..*\\n', \n",
    "    r'\\xa0\\n', \n",
    "    r'Creative Commons..*\\n',\n",
    "    r'Image.*\\n', \n",
    "    r'it\\.[\\w+]..*\\n', 'tg24\\..*\\n',\n",
    "    r'[\\s]Jeffrey Zeldman\\n',\n",
    "    r'[\\s]Zdravko Petrov\\n', \n",
    "    r'[\\s]Chris Watt\\n',\n",
    "    r'[\\s]GovernmentZA.*\\n',\n",
    "    r'[\\s]Attribution..*\\n',\n",
    "    r'[\\s]Elvert Barnes..*\\n',\n",
    "    r'[\\s]Maritza Ríos..*\\n', \n",
    "    r'[\\s]si.robi.*\\n',\n",
    "    r'[\\s]Steven Depolo.*\\n',\n",
    "    r'[\\s]Brendan Keene.*\\n',\n",
    "    r'[\\s]Francesco Ranieri.*\\n',\n",
    "    r'[\\s]Nathan Keirn.*\\n',\n",
    "    r'[\\s]Giorgio Minguzzi.*\\n',\n",
    "    \n",
    "    r' \\n',    \n",
    "]\n",
    "\n",
    "# Specify the URL of the website you want to scrape\n",
    "url = 'https://easyitaliannews.com/2024/06/'\n",
    "\n",
    "# To avoid server error: 403\n",
    "headers = {\n",
    "    \"User-Agent\": \"Mozilla/5.0 (X11; Ubuntu; Linux x86_64; rv:109.0) Gecko/20100101 Firefox/117.0\"\n",
    "}\n",
    "\n",
    "# Send a GET request to the URL\n",
    "response = requests.get(url, headers=headers)\n",
    "\n",
    "# Check if the request was successful (status code 200)\n",
    "if response.status_code == 200:\n",
    "    # Parse the HTML content using BeautifulSoup\n",
    "    soup = BeautifulSoup(response.text, 'html.parser')\n",
    "\n",
    "    l_tds = soup.find_all('td')\n",
    "\n",
    "    l_of_news = []\n",
    "    for td in soup.find_all('td'):\n",
    "        try:\n",
    "            l_of_news.append(td.find('a').get('href'))\n",
    "        except:\n",
    "            pass"
   ]
  },
  {
   "cell_type": "code",
   "execution_count": null,
   "id": "a41cb568",
   "metadata": {},
   "outputs": [],
   "source": [
    "for url in l_of_news:\n",
    "    "
   ]
  },
  {
   "cell_type": "code",
   "execution_count": 151,
   "id": "daa9b060",
   "metadata": {},
   "outputs": [],
   "source": [
    "# Send a GET request to the URL\n",
    "response = requests.get(url, headers=headers)\n",
    "\n",
    "# Check if the request was successful (status code 200)\n",
    "if response.status_code == 200:\n",
    "    # Parse the HTML content using BeautifulSoup\n",
    "    soup = BeautifulSoup(response.text, 'html.parser')\n",
    "\n",
    "    ns = soup.find('div', {'class': 'entry-content'})\n",
    "\n",
    "    # Extracting all paragraphs\n",
    "    l_content = []\n",
    "    mp3 = ''\n",
    "    paragraphs = ns.find_all(True)\n",
    "    for idx, paragraph in enumerate(paragraphs):\n",
    "        print(f\"Paragraph {idx+1}: {paragraph.text}\")\n",
    "        p = str(paragraph.text)\n",
    "    #     if  p not in l_content:\n",
    "    #         l_content.append(p)\n",
    "        if mp3 == '' and 'mp3' in p:\n",
    "            mp3 = p.strip()\n",
    "        l_content.append(p)\n",
    "\n",
    "    s = ('\\n').join(l_content).split('Il tuo aiuto per noi è importante!')[0].split('Subscribe')[0]\n",
    "\n",
    "\n",
    "    t = ''\n",
    "    for el in l_to_remove:\n",
    "        t = re.sub(el, '\\n', s)\n",
    "        s = t\n",
    "\n",
    "    t = re.sub(r'\\n\\n+', '\\n\\n', s)\n",
    "    s = t\n",
    "    s\n",
    "\n",
    "    s = s.strip()\n",
    "\n",
    "    # f = open('output.txt', 'w')\n",
    "    # f.write(s)\n",
    "    # f.close()\n",
    "\n",
    "    # with open('text.txt', 'w', encoding='utf-8') as f:\n",
    "    #     f.write(s)\n",
    "\n",
    "    with open(f'EasyItalianNews_{news_date}.txt', 'w', encoding='utf-8') as f:\n",
    "        f.write(s)\n",
    "\n",
    "    doc = requests.get(mp3)\n",
    "\n",
    "    with open(f'{fn}.mp3', 'wb') as f:\n",
    "        f.write(doc.content)"
   ]
  },
  {
   "cell_type": "code",
   "execution_count": 153,
   "id": "1f7fd5d7",
   "metadata": {},
   "outputs": [
    {
     "data": {
      "text/plain": [
       "['https://easyitaliannews.com/2024/06/01/',\n",
       " 'https://easyitaliannews.com/2024/06/04/',\n",
       " 'https://easyitaliannews.com/2024/06/06/',\n",
       " 'https://easyitaliannews.com/2024/06/08/',\n",
       " 'https://easyitaliannews.com/2024/06/11/',\n",
       " 'https://easyitaliannews.com/2024/06/13/',\n",
       " 'https://easyitaliannews.com/2024/06/15/',\n",
       " 'https://easyitaliannews.com/2024/06/18/',\n",
       " 'https://easyitaliannews.com/2024/06/20/',\n",
       " 'https://easyitaliannews.com/2024/06/22/',\n",
       " 'https://easyitaliannews.com/2024/06/25/',\n",
       " 'https://easyitaliannews.com/2024/06/27/',\n",
       " 'https://easyitaliannews.com/2024/06/29/']"
      ]
     },
     "execution_count": 153,
     "metadata": {},
     "output_type": "execute_result"
    }
   ],
   "source": [
    "l_of_news"
   ]
  },
  {
   "cell_type": "code",
   "execution_count": 154,
   "id": "ada8b48b",
   "metadata": {},
   "outputs": [
    {
     "data": {
      "text/plain": [
       "'https://easyitaliannews.com/2024/06/06/'"
      ]
     },
     "execution_count": 154,
     "metadata": {},
     "output_type": "execute_result"
    }
   ],
   "source": [
    "url = l_of_news[2]\n",
    "url"
   ]
  },
  {
   "cell_type": "code",
   "execution_count": 155,
   "id": "b8fa5766",
   "metadata": {},
   "outputs": [
    {
     "data": {
      "text/plain": [
       "'2024-06-06'"
      ]
     },
     "execution_count": 155,
     "metadata": {},
     "output_type": "execute_result"
    }
   ],
   "source": [
    "news_date = url[28:38].replace('/', '-')\n",
    "news_date"
   ]
  },
  {
   "cell_type": "code",
   "execution_count": null,
   "id": "b1304e44",
   "metadata": {},
   "outputs": [],
   "source": []
  }
 ],
 "metadata": {
  "kernelspec": {
   "display_name": "Python 3 (ipykernel)",
   "language": "python",
   "name": "python3"
  },
  "language_info": {
   "codemirror_mode": {
    "name": "ipython",
    "version": 3
   },
   "file_extension": ".py",
   "mimetype": "text/x-python",
   "name": "python",
   "nbconvert_exporter": "python",
   "pygments_lexer": "ipython3",
   "version": "3.9.13"
  }
 },
 "nbformat": 4,
 "nbformat_minor": 5
}
